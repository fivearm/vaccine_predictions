{
 "cells": [
  {
   "cell_type": "markdown",
   "metadata": {},
   "source": [
    "# Logistic Regression"
   ]
  },
  {
   "cell_type": "code",
   "execution_count": 1,
   "metadata": {},
   "outputs": [],
   "source": [
    "import pandas as pd\n",
    "import matplotlib.pyplot as plt\n",
    "\n",
    "from sklearn.linear_model import LogisticRegression\n",
    "from sklearn.metrics import roc_curve, roc_auc_score\n",
    "from sklearn.preprocessing import StandardScaler, OneHotEncoder\n",
    "from sklearn.impute import SimpleImputer\n",
    "from sklearn.compose import ColumnTransformer\n",
    "from sklearn.multioutput import MultiOutputClassifier\n",
    "\n",
    "from imblearn.pipeline import Pipeline"
   ]
  },
  {
   "cell_type": "code",
   "execution_count": 2,
   "metadata": {},
   "outputs": [],
   "source": [
    "def plot_roc(y_true, y_pred, label, ax):\n",
    "    fpr, tpr, thresholds = roc_curve(y_true, y_pred)\n",
    "    ax.plot(fpr, tpr)\n",
    "    ax.plot([0,1], [0,1], color='grey', linestyle='--')\n",
    "    ax.set_ylabel('TPR')\n",
    "    ax.set_xlabel('FPR')\n",
    "    ax.set_title(f'{label}: AUC = {roc_auc_score(y_true, y_pred):.4f}')"
   ]
  },
  {
   "cell_type": "code",
   "execution_count": 3,
   "metadata": {},
   "outputs": [],
   "source": [
    "X_train = pd.read_csv('Data/X_train.csv', index_col='respondent_id')\n",
    "X_test = pd.read_csv('Data/X_test.csv', index_col='respondent_id')\n",
    "y_train = pd.read_csv('Data/y_train.csv', index_col='respondent_id')\n",
    "y_test = pd.read_csv('Data/y_test.csv', index_col='respondent_id')"
   ]
  },
  {
   "cell_type": "code",
   "execution_count": 4,
   "metadata": {},
   "outputs": [],
   "source": [
    "cat_cols = list(X_train.select_dtypes(include='object').columns)\n",
    "num_cols = list(X_train.select_dtypes(include=['float64', 'int64']).columns)"
   ]
  },
  {
   "cell_type": "markdown",
   "metadata": {},
   "source": [
    "### logreg0:  Baseline Logistic Regression, only numeric columns"
   ]
  },
  {
   "cell_type": "code",
   "execution_count": 5,
   "metadata": {},
   "outputs": [],
   "source": [
    "numeric_preprocessing = Pipeline([\n",
    "    ('StandardScaler', StandardScaler()),\n",
    "    ('SimpleImputer', SimpleImputer(strategy='median'))\n",
    "])\n",
    "\n",
    "transformer = ColumnTransformer([('numerical', numeric_preprocessing, num_cols)], remainder='drop')\n",
    "\n",
    "estimator = MultiOutputClassifier(LogisticRegression(n_jobs=-1, random_state=42))"
   ]
  },
  {
   "cell_type": "code",
   "execution_count": 6,
   "metadata": {},
   "outputs": [],
   "source": [
    "logreg0_pipe = Pipeline([\n",
    "    ('transformer', transformer),\n",
    "    ('estimator', estimator)\n",
    "])"
   ]
  },
  {
   "cell_type": "code",
   "execution_count": 7,
   "metadata": {},
   "outputs": [
    {
     "data": {
      "text/plain": [
       "Pipeline(steps=[('transformer',\n",
       "                 ColumnTransformer(transformers=[('numerical',\n",
       "                                                  Pipeline(steps=[('StandardScaler',\n",
       "                                                                   StandardScaler()),\n",
       "                                                                  ('SimpleImputer',\n",
       "                                                                   SimpleImputer(strategy='median'))]),\n",
       "                                                  ['h1n1_concern',\n",
       "                                                   'h1n1_knowledge',\n",
       "                                                   'behavioral_antiviral_meds',\n",
       "                                                   'behavioral_avoidance',\n",
       "                                                   'behavioral_face_mask',\n",
       "                                                   'behavioral_wash_hands',\n",
       "                                                   'behavioral_large_gatherings',\n",
       "                                                   'behavio...\n",
       "                                                   'child_under_6_months',\n",
       "                                                   'health_worker',\n",
       "                                                   'health_insurance',\n",
       "                                                   'opinion_h1n1_vacc_effective',\n",
       "                                                   'opinion_h1n1_risk',\n",
       "                                                   'opinion_h1n1_sick_from_vacc',\n",
       "                                                   'opinion_seas_vacc_effective',\n",
       "                                                   'opinion_seas_risk',\n",
       "                                                   'opinion_seas_sick_from_vacc',\n",
       "                                                   'household_adults',\n",
       "                                                   'household_children'])])),\n",
       "                ('estimator',\n",
       "                 MultiOutputClassifier(estimator=LogisticRegression(n_jobs=-1,\n",
       "                                                                    random_state=42)))])"
      ]
     },
     "execution_count": 7,
     "metadata": {},
     "output_type": "execute_result"
    }
   ],
   "source": [
    "logreg0_pipe.fit(X_train, y_train)"
   ]
  },
  {
   "cell_type": "code",
   "execution_count": 8,
   "metadata": {},
   "outputs": [],
   "source": [
    "logreg0_preds = logreg0_pipe.predict_proba(X_test)"
   ]
  },
  {
   "cell_type": "code",
   "execution_count": 9,
   "metadata": {},
   "outputs": [],
   "source": [
    "logreg0_preds_df = pd.DataFrame({'h1n1_vaccine':logreg0_preds[0][:,1], 'seasonal_vaccine':logreg0_preds[1][:,1]},\n",
    "                               index=X_test.index)"
   ]
  },
  {
   "cell_type": "code",
   "execution_count": 10,
   "metadata": {},
   "outputs": [
    {
     "data": {
      "text/plain": [
       "0.8318215859983276"
      ]
     },
     "execution_count": 10,
     "metadata": {},
     "output_type": "execute_result"
    }
   ],
   "source": [
    "logreg0_score = roc_auc_score(y_test, logreg0_preds_df)\n",
    "logreg0_score"
   ]
  },
  {
   "cell_type": "code",
   "execution_count": 11,
   "metadata": {},
   "outputs": [
    {
     "data": {
      "image/png": "[encoded data removed]",
      "text/plain": [
       "<Figure size 576x288 with 2 Axes>"
      ]
     },
     "metadata": {
      "needs_background": "light"
     },
     "output_type": "display_data"
    }
   ],
   "source": [
    "fig, ax = plt.subplots(1, 2, figsize=(8,4))\n",
    "\n",
    "plot_roc(y_test.h1n1_vaccine, logreg0_preds_df.h1n1_vaccine, 'h1n1_vaccine', ax[0])\n",
    "plot_roc(y_test.seasonal_vaccine, logreg0_preds_df.seasonal_vaccine, 'seasonal_vaccine', ax[1])"
   ]
  },
  {
   "cell_type": "markdown",
   "metadata": {},
   "source": [
    "### logreg1:  Logistic Regression, numeric and categorical columns"
   ]
  },
  {
   "cell_type": "code",
   "execution_count": 20,
   "metadata": {},
   "outputs": [],
   "source": [
    "numeric_preprocessing = Pipeline([\n",
    "    ('StandardScaler', StandardScaler()),\n",
    "    ('SimpleImputer', SimpleImputer(strategy='median'))\n",
    "])\n",
    "\n",
    "categorical_preprocessing = Pipeline([\n",
    "    ('SimpleImputer', SimpleImputer(strategy='constant')),\n",
    "    ('ohe', OneHotEncoder(handle_unknown='ignore'))\n",
    "])\n",
    "\n",
    "transformer = ColumnTransformer([\n",
    "    ('numerical', numeric_preprocessing, num_cols),\n",
    "    ('categorical', categorical_preprocessing, cat_cols)\n",
    "])\n",
    "\n",
    "estimator = MultiOutputClassifier(LogisticRegression(n_jobs=-1, random_state=42))\n",
    "\n",
    "logreg1_pipe = Pipeline([\n",
    "    ('transformer', transformer),\n",
    "    ('estimator', estimator)\n",
    "])"
   ]
  },
  {
   "cell_type": "code",
   "execution_count": 21,
   "metadata": {},
   "outputs": [
    {
     "data": {
      "text/plain": [
       "Pipeline(steps=[('transformer',\n",
       "                 ColumnTransformer(transformers=[('numerical',\n",
       "                                                  Pipeline(steps=[('StandardScaler',\n",
       "                                                                   StandardScaler()),\n",
       "                                                                  ('SimpleImputer',\n",
       "                                                                   SimpleImputer(strategy='median'))]),\n",
       "                                                  ['h1n1_concern',\n",
       "                                                   'h1n1_knowledge',\n",
       "                                                   'behavioral_antiviral_meds',\n",
       "                                                   'behavioral_avoidance',\n",
       "                                                   'behavioral_face_mask',\n",
       "                                                   'behavioral_wash_hands',\n",
       "                                                   'behavioral_large_gatherings',\n",
       "                                                   'behavio...\n",
       "                                                                   SimpleImputer(strategy='constant')),\n",
       "                                                                  ('ohe',\n",
       "                                                                   OneHotEncoder(handle_unknown='ignore'))]),\n",
       "                                                  ['age_group', 'education',\n",
       "                                                   'race', 'sex',\n",
       "                                                   'income_poverty',\n",
       "                                                   'marital_status',\n",
       "                                                   'rent_or_own',\n",
       "                                                   'employment_status',\n",
       "                                                   'hhs_geo_region',\n",
       "                                                   'census_msa',\n",
       "                                                   'employment_industry',\n",
       "                                                   'employment_occupation'])])),\n",
       "                ('estimator',\n",
       "                 MultiOutputClassifier(estimator=LogisticRegression(n_jobs=-1,\n",
       "                                                                    random_state=42)))])"
      ]
     },
     "execution_count": 21,
     "metadata": {},
     "output_type": "execute_result"
    }
   ],
   "source": [
    "logreg1_pipe.fit(X_train, y_train)"
   ]
  },
  {
   "cell_type": "code",
   "execution_count": 22,
   "metadata": {},
   "outputs": [
    {
     "data": {
      "text/plain": [
       "0.8471015887785155"
      ]
     },
     "execution_count": 22,
     "metadata": {},
     "output_type": "execute_result"
    }
   ],
   "source": [
    "logreg1_preds = logreg1_pipe.predict_proba(X_test)\n",
    "\n",
    "logreg1_preds_df = pd.DataFrame({'h1n1_vaccine':logreg1_preds[0][:,1], 'seasonal_vaccine':logreg1_preds[1][:,1]},\n",
    "                               index=X_test.index)\n",
    "\n",
    "logreg1_score = roc_auc_score(y_test, logreg1_preds_df)\n",
    "logreg1_score"
   ]
  },
  {
   "cell_type": "code",
   "execution_count": 23,
   "metadata": {},
   "outputs": [
    {
     "data": {
      "image/png": "[encoded data removed]",
      "text/plain": [
       "<Figure size 576x288 with 2 Axes>"
      ]
     },
     "metadata": {
      "needs_background": "light"
     },
     "output_type": "display_data"
    }
   ],
   "source": [
    "fig, ax = plt.subplots(1, 2, figsize=(8,4))\n",
    "\n",
    "plot_roc(y_test.h1n1_vaccine, logreg1_preds_df.h1n1_vaccine, 'h1n1_vaccine', ax[0])\n",
    "plot_roc(y_test.seasonal_vaccine, logreg1_preds_df.seasonal_vaccine, 'seasonal_vaccine', ax[1])"
   ]
  },
  {
   "cell_type": "code",
   "execution_count": null,
   "metadata": {},
   "outputs": [],
   "source": []
  }
 ],
 "metadata": {
  "kernelspec": {
   "display_name": "Python (learn-env)",
   "language": "python",
   "name": "learn-env"
  },
  "language_info": {
   "codemirror_mode": {
    "name": "ipython",
    "version": 3
   },
   "file_extension": ".py",
   "mimetype": "text/x-python",
   "name": "python",
   "nbconvert_exporter": "python",
   "pygments_lexer": "ipython3",
   "version": "3.8.5"
  }
 },
 "nbformat": 4,
 "nbformat_minor": 4
}
